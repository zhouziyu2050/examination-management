{
 "cells": [
  {
   "cell_type": "code",
   "execution_count": 2,
   "metadata": {
    "collapsed": true
   },
   "outputs": [],
   "source": [
    "import pandas as pd\n",
    "import random\n",
    "import datetime\n",
    "\n",
    "# 忽略pandas的性能警告\n",
    "import warnings\n",
    "from pandas.errors import PerformanceWarning\n",
    "warnings.filterwarnings(\"ignore\", category=PerformanceWarning)"
   ]
  },
  {
   "cell_type": "code",
   "execution_count": 3,
   "outputs": [
    {
     "data": {
      "text/plain": "           学号  课程名称\n0    10000310  课程26\n1    10000471  课程26\n2    10000194  课程26\n3    10000375  课程26\n4    10000144  课程26\n..        ...   ...\n769  10000238  课程18\n770  10000235  课程18\n771  10000229  课程18\n772  10000224  课程18\n773  10000485   课程8\n\n[774 rows x 2 columns]",
      "text/html": "<div>\n<style scoped>\n    .dataframe tbody tr th:only-of-type {\n        vertical-align: middle;\n    }\n\n    .dataframe tbody tr th {\n        vertical-align: top;\n    }\n\n    .dataframe thead th {\n        text-align: right;\n    }\n</style>\n<table border=\"1\" class=\"dataframe\">\n  <thead>\n    <tr style=\"text-align: right;\">\n      <th></th>\n      <th>学号</th>\n      <th>课程名称</th>\n    </tr>\n  </thead>\n  <tbody>\n    <tr>\n      <th>0</th>\n      <td>10000310</td>\n      <td>课程26</td>\n    </tr>\n    <tr>\n      <th>1</th>\n      <td>10000471</td>\n      <td>课程26</td>\n    </tr>\n    <tr>\n      <th>2</th>\n      <td>10000194</td>\n      <td>课程26</td>\n    </tr>\n    <tr>\n      <th>3</th>\n      <td>10000375</td>\n      <td>课程26</td>\n    </tr>\n    <tr>\n      <th>4</th>\n      <td>10000144</td>\n      <td>课程26</td>\n    </tr>\n    <tr>\n      <th>...</th>\n      <td>...</td>\n      <td>...</td>\n    </tr>\n    <tr>\n      <th>769</th>\n      <td>10000238</td>\n      <td>课程18</td>\n    </tr>\n    <tr>\n      <th>770</th>\n      <td>10000235</td>\n      <td>课程18</td>\n    </tr>\n    <tr>\n      <th>771</th>\n      <td>10000229</td>\n      <td>课程18</td>\n    </tr>\n    <tr>\n      <th>772</th>\n      <td>10000224</td>\n      <td>课程18</td>\n    </tr>\n    <tr>\n      <th>773</th>\n      <td>10000485</td>\n      <td>课程8</td>\n    </tr>\n  </tbody>\n</table>\n<p>774 rows × 2 columns</p>\n</div>"
     },
     "execution_count": 3,
     "metadata": {},
     "output_type": "execute_result"
    }
   ],
   "source": [
    "# 读取数据,注意学号必须转为字符型，如果表顶部有多余的行可以设置skiprows跳过\n",
    "df = pd.read_excel(\"./20xx年重修名单.xlsx\",skiprows=0)\n",
    "df[\"学号\"]=df[\"学号\"].astype(str)\n",
    "df"
   ],
   "metadata": {
    "collapsed": false,
    "pycharm": {
     "name": "#%%\n"
    }
   }
  },
  {
   "cell_type": "code",
   "execution_count": 3,
   "outputs": [
    {
     "data": {
      "text/plain": "课程1    111\n课程2     87\n课程3     86\n课程4     63\n课程5     62\nName: 课程名称, dtype: int64"
     },
     "execution_count": 3,
     "metadata": {},
     "output_type": "execute_result"
    }
   ],
   "source": [
    "# 课程人数分析\n",
    "df[\"课程名称\"].value_counts().head(5)"
   ],
   "metadata": {
    "collapsed": false,
    "pycharm": {
     "name": "#%%\n"
    }
   }
  },
  {
   "cell_type": "code",
   "execution_count": 4,
   "outputs": [
    {
     "data": {
      "text/plain": "10000000    7\n10000001    6\n10000002    6\n10000003    6\n10000004    5\nName: 学号, dtype: int64"
     },
     "execution_count": 4,
     "metadata": {},
     "output_type": "execute_result"
    }
   ],
   "source": [
    "# 学生课程数分析\n",
    "df[\"学号\"].value_counts().head(5)"
   ],
   "metadata": {
    "collapsed": false,
    "pycharm": {
     "name": "#%%\n"
    }
   }
  },
  {
   "cell_type": "code",
   "execution_count": 5,
   "outputs": [
    {
     "data": {
      "text/plain": "          课程1  课程2  课程3  课程4  课程5  课程6  课程7  课程8  课程9  课程10  ...  课程54  课程55  \\\n10000310  0.0  0.0  0.0  0.0  0.0  0.0  0.0  0.0  0.0   0.0  ...   0.0   0.0   \n10000471  0.0  0.0  0.0  0.0  0.0  0.0  0.0  0.0  0.0   0.0  ...   0.0   0.0   \n10000194  0.0  0.0  0.0  0.0  0.0  0.0  0.0  1.0  0.0   0.0  ...   0.0   0.0   \n10000375  0.0  0.0  0.0  0.0  0.0  0.0  0.0  0.0  0.0   0.0  ...   0.0   0.0   \n10000144  1.0  0.0  0.0  0.0  0.0  0.0  0.0  0.0  0.0   0.0  ...   0.0   0.0   \n\n          课程56  课程57  课程58  课程59  课程60  课程61  课程62  课程63  \n10000310   0.0   0.0   0.0   0.0   0.0   0.0   0.0   0.0  \n10000471   0.0   0.0   0.0   0.0   0.0   0.0   0.0   0.0  \n10000194   0.0   0.0   0.0   0.0   0.0   0.0   0.0   0.0  \n10000375   0.0   0.0   0.0   0.0   0.0   0.0   0.0   0.0  \n10000144   0.0   0.0   0.0   0.0   0.0   0.0   0.0   0.0  \n\n[5 rows x 63 columns]",
      "text/html": "<div>\n<style scoped>\n    .dataframe tbody tr th:only-of-type {\n        vertical-align: middle;\n    }\n\n    .dataframe tbody tr th {\n        vertical-align: top;\n    }\n\n    .dataframe thead th {\n        text-align: right;\n    }\n</style>\n<table border=\"1\" class=\"dataframe\">\n  <thead>\n    <tr style=\"text-align: right;\">\n      <th></th>\n      <th>课程1</th>\n      <th>课程2</th>\n      <th>课程3</th>\n      <th>课程4</th>\n      <th>课程5</th>\n      <th>课程6</th>\n      <th>课程7</th>\n      <th>课程8</th>\n      <th>课程9</th>\n      <th>课程10</th>\n      <th>...</th>\n      <th>课程54</th>\n      <th>课程55</th>\n      <th>课程56</th>\n      <th>课程57</th>\n      <th>课程58</th>\n      <th>课程59</th>\n      <th>课程60</th>\n      <th>课程61</th>\n      <th>课程62</th>\n      <th>课程63</th>\n    </tr>\n  </thead>\n  <tbody>\n    <tr>\n      <th>10000310</th>\n      <td>0.0</td>\n      <td>0.0</td>\n      <td>0.0</td>\n      <td>0.0</td>\n      <td>0.0</td>\n      <td>0.0</td>\n      <td>0.0</td>\n      <td>0.0</td>\n      <td>0.0</td>\n      <td>0.0</td>\n      <td>...</td>\n      <td>0.0</td>\n      <td>0.0</td>\n      <td>0.0</td>\n      <td>0.0</td>\n      <td>0.0</td>\n      <td>0.0</td>\n      <td>0.0</td>\n      <td>0.0</td>\n      <td>0.0</td>\n      <td>0.0</td>\n    </tr>\n    <tr>\n      <th>10000471</th>\n      <td>0.0</td>\n      <td>0.0</td>\n      <td>0.0</td>\n      <td>0.0</td>\n      <td>0.0</td>\n      <td>0.0</td>\n      <td>0.0</td>\n      <td>0.0</td>\n      <td>0.0</td>\n      <td>0.0</td>\n      <td>...</td>\n      <td>0.0</td>\n      <td>0.0</td>\n      <td>0.0</td>\n      <td>0.0</td>\n      <td>0.0</td>\n      <td>0.0</td>\n      <td>0.0</td>\n      <td>0.0</td>\n      <td>0.0</td>\n      <td>0.0</td>\n    </tr>\n    <tr>\n      <th>10000194</th>\n      <td>0.0</td>\n      <td>0.0</td>\n      <td>0.0</td>\n      <td>0.0</td>\n      <td>0.0</td>\n      <td>0.0</td>\n      <td>0.0</td>\n      <td>1.0</td>\n      <td>0.0</td>\n      <td>0.0</td>\n      <td>...</td>\n      <td>0.0</td>\n      <td>0.0</td>\n      <td>0.0</td>\n      <td>0.0</td>\n      <td>0.0</td>\n      <td>0.0</td>\n      <td>0.0</td>\n      <td>0.0</td>\n      <td>0.0</td>\n      <td>0.0</td>\n    </tr>\n    <tr>\n      <th>10000375</th>\n      <td>0.0</td>\n      <td>0.0</td>\n      <td>0.0</td>\n      <td>0.0</td>\n      <td>0.0</td>\n      <td>0.0</td>\n      <td>0.0</td>\n      <td>0.0</td>\n      <td>0.0</td>\n      <td>0.0</td>\n      <td>...</td>\n      <td>0.0</td>\n      <td>0.0</td>\n      <td>0.0</td>\n      <td>0.0</td>\n      <td>0.0</td>\n      <td>0.0</td>\n      <td>0.0</td>\n      <td>0.0</td>\n      <td>0.0</td>\n      <td>0.0</td>\n    </tr>\n    <tr>\n      <th>10000144</th>\n      <td>1.0</td>\n      <td>0.0</td>\n      <td>0.0</td>\n      <td>0.0</td>\n      <td>0.0</td>\n      <td>0.0</td>\n      <td>0.0</td>\n      <td>0.0</td>\n      <td>0.0</td>\n      <td>0.0</td>\n      <td>...</td>\n      <td>0.0</td>\n      <td>0.0</td>\n      <td>0.0</td>\n      <td>0.0</td>\n      <td>0.0</td>\n      <td>0.0</td>\n      <td>0.0</td>\n      <td>0.0</td>\n      <td>0.0</td>\n      <td>0.0</td>\n    </tr>\n  </tbody>\n</table>\n<p>5 rows × 63 columns</p>\n</div>"
     },
     "execution_count": 5,
     "metadata": {},
     "output_type": "execute_result"
    }
   ],
   "source": [
    "# 构建【学号-课程】矩阵，参与考试标记为1，其他用0填充\n",
    "test = pd.DataFrame()\n",
    "for i,item in df.iterrows():\n",
    "    test.loc[item[\"学号\"], item[\"课程名称\"]]=1\n",
    "test = test.fillna(0)\n",
    "# 按考试人数对课程排序\n",
    "test = test[list(df[\"课程名称\"].value_counts().index)]\n",
    "test.head(5)"
   ],
   "metadata": {
    "collapsed": false,
    "pycharm": {
     "name": "#%%\n"
    }
   }
  },
  {
   "cell_type": "code",
   "execution_count": 6,
   "outputs": [
    {
     "name": "stdout",
     "output_type": "stream",
     "text": [
      "0,9\t1,10\t2,8\t"
     ]
    },
    {
     "data": {
      "text/plain": "          课程1|课程32|课程28|课程60|课程33|课程10|课程23  \\\n10000310                                0.0   \n10000471                                0.0   \n10000194                                0.0   \n10000375                                0.0   \n10000144                                1.0   \n\n          课程2|课程42|课程43|课程50|课程16|课程29|课程57|课程59|课程38|课程48  \\\n10000310                                               0.0   \n10000471                                               0.0   \n10000194                                               0.0   \n10000375                                               0.0   \n10000144                                               0.0   \n\n          课程3|课程39|课程20|课程62|课程49|课程54|课程58|课程51|课程55|课程63  \\\n10000310                                               0.0   \n10000471                                               0.0   \n10000194                                               0.0   \n10000375                                               0.0   \n10000144                                               0.0   \n\n          课程4|课程53|课程56|课程24|课程35|课程41|课程52|课程45|课程47|课程36  \\\n10000310                                               0.0   \n10000471                                               0.0   \n10000194                                               0.0   \n10000375                                               0.0   \n10000144                                               0.0   \n\n          课程5|课程46|课程15|课程31|课程18|课程22|课程37|课程44|课程30|课程27  \\\n10000310                                               0.0   \n10000471                                               0.0   \n10000194                                               0.0   \n10000375                                               0.0   \n10000144                                               0.0   \n\n          课程6|课程14|课程19|课程26|课程40|课程17|课程34|课程61  课程7|课程11|课程25|课程21|课程12  \\\n10000310                                     1.0                      0.0   \n10000471                                     1.0                      0.0   \n10000194                                     1.0                      0.0   \n10000375                                     1.0                      0.0   \n10000144                                     1.0                      0.0   \n\n          课程8|课程13|课程9  \n10000310           0.0  \n10000471           0.0  \n10000194           1.0  \n10000375           0.0  \n10000144           0.0  ",
      "text/html": "<div>\n<style scoped>\n    .dataframe tbody tr th:only-of-type {\n        vertical-align: middle;\n    }\n\n    .dataframe tbody tr th {\n        vertical-align: top;\n    }\n\n    .dataframe thead th {\n        text-align: right;\n    }\n</style>\n<table border=\"1\" class=\"dataframe\">\n  <thead>\n    <tr style=\"text-align: right;\">\n      <th></th>\n      <th>课程1|课程32|课程28|课程60|课程33|课程10|课程23</th>\n      <th>课程2|课程42|课程43|课程50|课程16|课程29|课程57|课程59|课程38|课程48</th>\n      <th>课程3|课程39|课程20|课程62|课程49|课程54|课程58|课程51|课程55|课程63</th>\n      <th>课程4|课程53|课程56|课程24|课程35|课程41|课程52|课程45|课程47|课程36</th>\n      <th>课程5|课程46|课程15|课程31|课程18|课程22|课程37|课程44|课程30|课程27</th>\n      <th>课程6|课程14|课程19|课程26|课程40|课程17|课程34|课程61</th>\n      <th>课程7|课程11|课程25|课程21|课程12</th>\n      <th>课程8|课程13|课程9</th>\n    </tr>\n  </thead>\n  <tbody>\n    <tr>\n      <th>10000310</th>\n      <td>0.0</td>\n      <td>0.0</td>\n      <td>0.0</td>\n      <td>0.0</td>\n      <td>0.0</td>\n      <td>1.0</td>\n      <td>0.0</td>\n      <td>0.0</td>\n    </tr>\n    <tr>\n      <th>10000471</th>\n      <td>0.0</td>\n      <td>0.0</td>\n      <td>0.0</td>\n      <td>0.0</td>\n      <td>0.0</td>\n      <td>1.0</td>\n      <td>0.0</td>\n      <td>0.0</td>\n    </tr>\n    <tr>\n      <th>10000194</th>\n      <td>0.0</td>\n      <td>0.0</td>\n      <td>0.0</td>\n      <td>0.0</td>\n      <td>0.0</td>\n      <td>1.0</td>\n      <td>0.0</td>\n      <td>1.0</td>\n    </tr>\n    <tr>\n      <th>10000375</th>\n      <td>0.0</td>\n      <td>0.0</td>\n      <td>0.0</td>\n      <td>0.0</td>\n      <td>0.0</td>\n      <td>1.0</td>\n      <td>0.0</td>\n      <td>0.0</td>\n    </tr>\n    <tr>\n      <th>10000144</th>\n      <td>1.0</td>\n      <td>0.0</td>\n      <td>0.0</td>\n      <td>0.0</td>\n      <td>0.0</td>\n      <td>1.0</td>\n      <td>0.0</td>\n      <td>0.0</td>\n    </tr>\n  </tbody>\n</table>\n</div>"
     },
     "execution_count": 6,
     "metadata": {},
     "output_type": "execute_result"
    }
   ],
   "source": [
    "# 求解\n",
    "for j in range(10000):  # 求解1万次（实际上大约几十次就能找到满足要求的方案，或者一直找不到）\n",
    "    test2 = test.copy()  # 复制矩阵表格\n",
    "    for i in range(len(test2.columns)):\n",
    "        columns = list(test2.columns[i+1:])  # 取出第i列以后的课程（前i列是已经无法合并的）\n",
    "        if len(columns)==0:\n",
    "            # 能合并的都已经合并了，提前退出\n",
    "            break\n",
    "        random.shuffle(columns)  # 打乱顺序，增加随机性\n",
    "        for column2 in columns:  # 遍历可能合并的每一列\n",
    "            column1 = test2.columns[i]  # 每次都要更新列名，因为列名可能会因为合并而变化\n",
    "\n",
    "            # 这里给出了3个条件：1.被合并的两列不能有冲突；2.合并后每场的考试人数不能大于100人；3.合并后每场考试科目不能大于15门\n",
    "            # 第1个条件必须满足才能合并，后2个条件可以根据需求修改\n",
    "            if sum((test2[column1]>0) & (test2[column2]>0)) == 0 and (sum(test2[column1])+sum(test2[column2]))<=150 and (column1+\"|\"+column2).count(\"|\")<10:\n",
    "                # 将合并后的列插入到第i列\n",
    "                test2.insert(i,column1+\"|\"+column2,test2[column1]+test2[column2])\n",
    "                # 将被合并的列删除\n",
    "                test2 = test2.drop(columns=[column1,column2])\n",
    "\n",
    "    print(j,len(test2.columns),sep=\",\",end=\"\\t\") # 输出当前考试安排方案的场数\n",
    "\n",
    "    # 退出循环的条件：合并后小于8列（即：最多安排8场考试）\n",
    "    if len(test2.columns)<=8:\n",
    "        # 保存到文件\n",
    "        test2.to_excel(\"output\"+str(len(test2.columns))+\"-\"+datetime.datetime.now().strftime(\"%Y%m%d%H%M%S\")+\".xlsx\")\n",
    "        break\n",
    "test2.head(5)"
   ],
   "metadata": {
    "collapsed": false,
    "pycharm": {
     "name": "#%%\n"
    }
   }
  },
  {
   "cell_type": "code",
   "execution_count": 7,
   "outputs": [
    {
     "name": "stdout",
     "output_type": "stream",
     "text": [
      "第1场考7门，150人参考\n",
      "第2场考10门，109人参考\n",
      "第3场考10门，102人参考\n",
      "第4场考10门，78人参考\n",
      "第5场考10门，100人参考\n",
      "第6场考8门，79人参考\n",
      "第7场考5门，86人参考\n",
      "第8场考3门，70人参考\n"
     ]
    }
   ],
   "source": [
    "# 查看每场考试的科目数量和参考人数\n",
    "for i,column in enumerate(test2.columns):\n",
    "    print(\"第%d场考%d门，%d人参考\"%(i+1,column.count(\"|\")+1,sum(test2[column])))"
   ],
   "metadata": {
    "collapsed": false,
    "pycharm": {
     "name": "#%%\n"
    }
   }
  }
 ],
 "metadata": {
  "kernelspec": {
   "display_name": "Python 3",
   "language": "python",
   "name": "python3"
  },
  "language_info": {
   "codemirror_mode": {
    "name": "ipython",
    "version": 2
   },
   "file_extension": ".py",
   "mimetype": "text/x-python",
   "name": "python",
   "nbconvert_exporter": "python",
   "pygments_lexer": "ipython2",
   "version": "2.7.6"
  }
 },
 "nbformat": 4,
 "nbformat_minor": 0
}